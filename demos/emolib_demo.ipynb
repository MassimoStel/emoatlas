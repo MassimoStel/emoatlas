{
 "cells": [
  {
   "cell_type": "code",
   "execution_count": null,
   "id": "34d21877",
   "metadata": {
    "pycharm": {
     "is_executing": true
    }
   },
   "outputs": [],
   "source": [
    "import matplotlib\n",
    "from emoatlas import EmoScores"
   ]
  },
  {
   "cell_type": "code",
   "execution_count": null,
   "id": "8683f1b8",
   "metadata": {
    "pycharm": {
     "is_executing": true
    }
   },
   "outputs": [],
   "source": [
    "emos = EmoScores()"
   ]
  },
  {
   "cell_type": "code",
   "execution_count": null,
   "id": "3ab111c4",
   "metadata": {
    "pycharm": {
     "is_executing": true
    }
   },
   "outputs": [],
   "source": [
    "sample_text = \"\"\"In this text, we prefer dogs becase they are happy and dogs are positive.\n",
    "Good dogs make good friends. Cats however are bad and have negative links. We dislike cats.\"\"\"\n",
    "fmnt = emos.formamentis_network(sample_text) "
   ]
  },
  {
   "cell_type": "code",
   "execution_count": null,
   "id": "7e4e935d",
   "metadata": {
    "pycharm": {
     "is_executing": true
    }
   },
   "outputs": [],
   "source": [
    "fmnt.vertices"
   ]
  },
  {
   "cell_type": "code",
   "execution_count": null,
   "id": "f011f1ef",
   "metadata": {
    "pycharm": {
     "is_executing": true
    }
   },
   "outputs": [],
   "source": [
    "fmnt.edges"
   ]
  },
  {
   "cell_type": "code",
   "execution_count": null,
   "id": "12dc659c",
   "metadata": {
    "pycharm": {
     "is_executing": true
    }
   },
   "outputs": [],
   "source": [
    "emos.draw_formamentis(fmnt)"
   ]
  },
  {
   "cell_type": "code",
   "execution_count": null,
   "id": "e53d77e1",
   "metadata": {
    "pycharm": {
     "is_executing": true
    }
   },
   "outputs": [],
   "source": [
    "bag_of_words_dog = \" \".join([pair[1] for pair in fmnt.edges if pair[0].lower() == \"dog\"])\n",
    "bag_of_words_cat = \" \".join([pair[1] for pair in fmnt.edges if pair[0].lower() == \"cat\"])"
   ]
  },
  {
   "cell_type": "code",
   "execution_count": null,
   "id": "fe143d4a",
   "metadata": {
    "scrolled": true,
    "pycharm": {
     "is_executing": true
    }
   },
   "outputs": [],
   "source": [
    "zscores = emos.zscores(bag_of_words_dog)\n",
    "emos.draw_plutchik(zscores, rescale = (-10, 10), title = 'Dog')"
   ]
  },
  {
   "cell_type": "code",
   "execution_count": null,
   "id": "21015766",
   "metadata": {
    "pycharm": {
     "is_executing": true
    }
   },
   "outputs": [],
   "source": [
    "zscores = emos.zscores(bag_of_words_cat)\n",
    "emos.draw_plutchik(zscores, rescale = (-10, 10), title = 'Cat')"
   ]
  },
  {
   "cell_type": "code",
   "execution_count": null,
   "id": "553003f6",
   "metadata": {},
   "outputs": [],
   "source": []
  }
 ],
 "metadata": {
  "kernelspec": {
   "display_name": "cognet",
   "language": "python",
   "name": "cognet"
  },
  "language_info": {
   "codemirror_mode": {
    "name": "ipython",
    "version": 3
   },
   "file_extension": ".py",
   "mimetype": "text/x-python",
   "name": "python",
   "nbconvert_exporter": "python",
   "pygments_lexer": "ipython3",
   "version": "3.7.13"
  }
 },
 "nbformat": 4,
 "nbformat_minor": 5
}
